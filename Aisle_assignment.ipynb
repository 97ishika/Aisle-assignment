{
  "nbformat": 4,
  "nbformat_minor": 0,
  "metadata": {
    "colab": {
      "name": "Aisle assignment",
      "provenance": [],
      "collapsed_sections": []
    },
    "kernelspec": {
      "name": "python3",
      "display_name": "Python 3"
    },
    "language_info": {
      "name": "python"
    }
  },
  "cells": [
    {
      "cell_type": "code",
      "source": [
        "\n",
        "class Items:\n",
        "\n",
        "  def __init__(self, name, price, count):\n",
        "        \n",
        "        self.name = name\n",
        "        self.price = price\n",
        "        self.count = count\n",
        "\n",
        "  def sales_tax(self):\n",
        "        \n",
        "        rnd_st = 0\n",
        "        if self.name not in ['Book', 'Da Vinci Code', 'Harry Potter', 'Head First', 'Chocolate', 'Rice', 'Wheat', 'Oil',\n",
        "                        'Medicine', 'Meds', 'Paracetamol', 'Betadine']:\n",
        "            st = self.count * self.price * 0.1\n",
        "            rnd_st = round(st, 2)\n",
        "        \n",
        "        return rnd_st\n",
        "\n",
        "  def import_duty(self):\n",
        "        \n",
        "        idty = 0\n",
        "        if \"imported\" in self.name:\n",
        "            idty = float(self.count * self.price * 0.05)\n",
        "            \n",
        "        return idty\n",
        "\n",
        "  def tot_cost(self):\n",
        "        \n",
        "        st = self.sales_tax()\n",
        "        idty = self.import_duty()\n",
        "        tot_price = self.count * self.price\n",
        "        cost = float(tot_price + st + idty)\n",
        "        \n",
        "        return cost\n",
        "\n",
        "  def print_item(self):       \n",
        "\n",
        "        print(self.count, \"\", self.name, \":\", self.tot_cost())"
      ],
      "metadata": {
        "id": "D6JPFwnFWGkI"
      },
      "execution_count": 7,
      "outputs": []
    },
    {
      "cell_type": "code",
      "source": [
        " def main():        \n",
        "    n = int(input(\"Number of types of items bought: \"))\n",
        "    n1 = n\n",
        "        \n",
        "    item_list = [None] * n\n",
        "    price_list = [None] * n\n",
        "    count_list = [None] * n\n",
        "    total_cost = 0\n",
        "    tot_sales_tax = 0\n",
        "\n",
        "    while(n1 > 0):\n",
        "      count_list[n - n1] = int(input(\"Number of item: \"))\n",
        "      item_list[n - n1] = input('Name of item: ')\n",
        "      price_list[n - n1] = int(input(\"Price of item: \"))\n",
        "      n1 = n1 - 1\n",
        "            \n",
        "    n2 = n\n",
        "        \n",
        "    while(n2 > 0):\n",
        "            \n",
        "      name = item_list[n - n2]\n",
        "      price = price_list[n - n2]\n",
        "      count = count_list[n - n2]\n",
        "            \n",
        "      Item_obj = Items(name, price, count)\n",
        "      Item_obj.print_item()\n",
        "\n",
        "      tot_sales_tax = tot_sales_tax + Item_obj.sales_tax()\n",
        "      total_cost = total_cost + Item_obj.tot_cost()\n",
        "      n2 = n2 - 1\n",
        "        \n",
        "    print(\"Sales Taxes: \", tot_sales_tax, \"Amount: \", total_cost)\n",
        "\n",
        "if __name__ == '__main__':\n",
        "        main()"
      ],
      "metadata": {
        "id": "DBRbSGJfWpvB",
        "colab": {
          "base_uri": "https://localhost:8080/"
        },
        "outputId": "c0132e32-a237-4b5f-ace8-0c2c4bc67289"
      },
      "execution_count": 9,
      "outputs": [
        {
          "output_type": "stream",
          "name": "stdout",
          "text": [
            "Number of types of items bought: 2\n",
            "Number of item: 1\n",
            "Name of item: Gold\n",
            "Price of item: 900\n",
            "Number of item: 4\n",
            "Name of item: imported chocolate\n",
            "Price of item: 10\n",
            "1  Gold : 990.0\n",
            "4  imported chocolate : 46.0\n",
            "Sales Taxes:  94.0 Amount:  1036.0\n"
          ]
        }
      ]
    },
    {
      "cell_type": "code",
      "source": [
        ""
      ],
      "metadata": {
        "id": "zXk7oRRXiRv8"
      },
      "execution_count": null,
      "outputs": []
    }
  ]
}